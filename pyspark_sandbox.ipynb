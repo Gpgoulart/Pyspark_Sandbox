{
  "nbformat": 4,
  "nbformat_minor": 0,
  "metadata": {
    "colab": {
      "provenance": []
    },
    "kernelspec": {
      "name": "python3",
      "display_name": "Python 3"
    },
    "language_info": {
      "name": "python"
    }
  },
  "cells": [
    {
      "cell_type": "code",
      "execution_count": null,
      "metadata": {
        "colab": {
          "base_uri": "https://localhost:8080/"
        },
        "id": "pIaqWDZ4cTBG",
        "outputId": "71a63fdb-195f-496d-d253-8e8655417b48"
      },
      "outputs": [
        {
          "output_type": "stream",
          "name": "stdout",
          "text": [
            "Looking in indexes: https://pypi.org/simple, https://us-python.pkg.dev/colab-wheels/public/simple/\n",
            "Collecting pyspark\n",
            "  Downloading pyspark-3.3.2.tar.gz (281.4 MB)\n",
            "\u001b[2K     \u001b[90m━━━━━━━━━━━━━━━━━━━━━━━━━━━━━━━━━━━━━━━\u001b[0m \u001b[32m281.4/281.4 MB\u001b[0m \u001b[31m4.9 MB/s\u001b[0m eta \u001b[36m0:00:00\u001b[0m\n",
            "\u001b[?25h  Preparing metadata (setup.py) ... \u001b[?25l\u001b[?25hdone\n",
            "Collecting py4j==0.10.9.5\n",
            "  Downloading py4j-0.10.9.5-py2.py3-none-any.whl (199 kB)\n",
            "\u001b[2K     \u001b[90m━━━━━━━━━━━━━━━━━━━━━━━━━━━━━━━━━━━━━━\u001b[0m \u001b[32m199.7/199.7 KB\u001b[0m \u001b[31m15.4 MB/s\u001b[0m eta \u001b[36m0:00:00\u001b[0m\n",
            "\u001b[?25hBuilding wheels for collected packages: pyspark\n",
            "  Building wheel for pyspark (setup.py) ... \u001b[?25l\u001b[?25hdone\n",
            "  Created wheel for pyspark: filename=pyspark-3.3.2-py2.py3-none-any.whl size=281824025 sha256=fdc4bdfeba2edf0df6f016a71d75120dfacae2354cb9a48c6e6200d3fb7550f0\n",
            "  Stored in directory: /root/.cache/pip/wheels/b1/59/a0/a1a0624b5e865fd389919c1a10f53aec9b12195d6747710baf\n",
            "Successfully built pyspark\n",
            "Installing collected packages: py4j, pyspark\n",
            "Successfully installed py4j-0.10.9.5 pyspark-3.3.2\n"
          ]
        }
      ],
      "source": [
        "!pip install pyspark"
      ]
    },
    {
      "cell_type": "code",
      "source": [
        "from pyspark.sql import SparkSession\n",
        "spark = SparkSession.builder.master(\"local[*]\").getOrCreate()\n",
        "spark"
      ],
      "metadata": {
        "colab": {
          "base_uri": "https://localhost:8080/",
          "height": 222
        },
        "id": "OAMaUEIscfV4",
        "outputId": "94bcd5a7-7d86-427c-d9b2-f01aab911a4e"
      },
      "execution_count": null,
      "outputs": [
        {
          "output_type": "execute_result",
          "data": {
            "text/plain": [
              "<pyspark.sql.session.SparkSession at 0x7fed781211f0>"
            ],
            "text/html": [
              "\n",
              "            <div>\n",
              "                <p><b>SparkSession - in-memory</b></p>\n",
              "                \n",
              "        <div>\n",
              "            <p><b>SparkContext</b></p>\n",
              "\n",
              "            <p><a href=\"http://258630e3ce6a:4040\">Spark UI</a></p>\n",
              "\n",
              "            <dl>\n",
              "              <dt>Version</dt>\n",
              "                <dd><code>v3.3.2</code></dd>\n",
              "              <dt>Master</dt>\n",
              "                <dd><code>local[*]</code></dd>\n",
              "              <dt>AppName</dt>\n",
              "                <dd><code>pyspark-shell</code></dd>\n",
              "            </dl>\n",
              "        </div>\n",
              "        \n",
              "            </div>\n",
              "        "
            ]
          },
          "metadata": {},
          "execution_count": 3
        }
      ]
    },
    {
      "cell_type": "markdown",
      "source": [
        "#dataset https://www.kaggle.com/datasets/thedevastator/fatal-traffic-accidents-in-arizona-2012-2016?select=vehicle.csv"
      ],
      "metadata": {
        "id": "eeUEK22YgC_r"
      }
    },
    {
      "cell_type": "code",
      "source": [
        "df = spark.read.format(\"csv\")\\\n",
        ".option(\"header\", \"True\")\\\n",
        ".option(\"inferSchema\",\"True\")\\\n",
        ".load(\"/content/drive/MyDrive/Datalake/landing/classic_rock_playlist.csv\")"
      ],
      "metadata": {
        "id": "PTq-GJ5JcgqH"
      },
      "execution_count": null,
      "outputs": []
    },
    {
      "cell_type": "code",
      "source": [
        "arquivo = \"/content/drive/MyDrive/Datalake/landing/classic_rock_playlist.csv\""
      ],
      "metadata": {
        "id": "XE4a8GWAdzGT"
      },
      "execution_count": null,
      "outputs": []
    },
    {
      "cell_type": "code",
      "source": [
        "df = spark.read.format(\"csv\")\\\n",
        ".option(\"header\", \"True\")\\\n",
        ".option(\"inferSchema\",\"True\")\\\n",
        ".csv(arquivo)"
      ],
      "metadata": {
        "id": "VfvzM1oZd5jK"
      },
      "execution_count": null,
      "outputs": []
    },
    {
      "cell_type": "code",
      "source": [
        "df.printSchema()"
      ],
      "metadata": {
        "colab": {
          "base_uri": "https://localhost:8080/"
        },
        "id": "cJXetBTEewrw",
        "outputId": "c9bba6e4-e019-4c9e-e3ad-d56f2fda3945"
      },
      "execution_count": null,
      "outputs": [
        {
          "output_type": "stream",
          "name": "stdout",
          "text": [
            "root\n",
            " |-- Artist: string (nullable = true)\n",
            " |-- Music: string (nullable = true)\n",
            " |-- Album: string (nullable = true)\n",
            " |-- Year: integer (nullable = true)\n",
            " |-- Genre: string (nullable = true)\n",
            " |-- 2022: integer (nullable = true)\n",
            " |-- 2021: integer (nullable = true)\n",
            " |-- 2020: integer (nullable = true)\n",
            " |-- 2019: integer (nullable = true)\n",
            " |-- 2018: integer (nullable = true)\n",
            " |-- 2017: integer (nullable = true)\n",
            " |-- 2016: integer (nullable = true)\n",
            " |-- 2015: integer (nullable = true)\n",
            "\n"
          ]
        }
      ]
    },
    {
      "cell_type": "code",
      "source": [
        "df.show(10)"
      ],
      "metadata": {
        "colab": {
          "base_uri": "https://localhost:8080/"
        },
        "id": "RYzSZsz9fFxe",
        "outputId": "ea59c411-7104-4051-fd15-e4a57692e411"
      },
      "execution_count": null,
      "outputs": [
        {
          "output_type": "stream",
          "name": "stdout",
          "text": [
            "+----------------+--------------------+--------------------+----+----------------+----+----+----+----+----+----+----+----+\n",
            "|          Artist|               Music|               Album|Year|           Genre|2022|2021|2020|2019|2018|2017|2016|2015|\n",
            "+----------------+--------------------+--------------------+----+----------------+----+----+----+----+----+----+----+----+\n",
            "|The Black Crowes|              Remedy|The Southern Harm...|1992|   Southern Rock| 500|null| 324| 290| 132|  64|  36|null|\n",
            "|            Asia| Only Time Will Tell|                Asia|1982|Progressive Rock| 499|null|null|null|null|null|null|null|\n",
            "| Collective Soul|               Shine|Hints Allegations...|1993|Alternative Rock| 498|null|null| 419| 485| 403|null|null|\n",
            "|      Billy Idol|       Sweet Sixteen|      Whiplash Smile|1986|            Rock| 497|null|null|null|null|null|null|null|\n",
            "| Collective Soul|            December|     Collective Soul|1995|Alternative Rock| 496|null|null|null| 431| 443|null|null|\n",
            "|     Duran Duran|       Save a prayer|                 Rio|1982|        Synthpop| 495| 466|null| 381| 292|null| 488|null|\n",
            "|     Men at Work|          Down Under|   Business as Usual|1981|        New Wave| 494|null| 190| 172| 108| 451| 406| 167|\n",
            "|    Brian Setzer|    Summertime Blues| La Bamba soundtrack|1987|   Rock and Roll| 493|null|null|null|null|null|null|null|\n",
            "|    Simple Minds|Dont You Forget A...|The Breakfast Clu...|1985|        Pop Rock| 492|null|null| 293| 288| 437|null|null|\n",
            "|Blue Oyster Cult|       Joan Crawford|Fire of Unknown O...|1981|       Hard Rock| 491|null| 174| 209|null| 311| 403|null|\n",
            "+----------------+--------------------+--------------------+----+----------------+----+----+----+----+----+----+----+----+\n",
            "only showing top 10 rows\n",
            "\n"
          ]
        }
      ]
    },
    {
      "cell_type": "code",
      "source": [
        "display(df.head(10))"
      ],
      "metadata": {
        "colab": {
          "base_uri": "https://localhost:8080/",
          "height": 364
        },
        "id": "NS65EMMniDQC",
        "outputId": "565093cd-6dde-44e1-ca0a-7c86b0efc261"
      },
      "execution_count": null,
      "outputs": [
        {
          "output_type": "display_data",
          "data": {
            "text/plain": [
              "[Row(Artist='The Black Crowes', Music='Remedy', Album='The Southern Harmony and Musical Companion', Year=1992, Genre='Southern Rock', 2022=500, 2021=None, 2020=324, 2019=290, 2018=132, 2017=64, 2016=36, 2015=None),\n",
              " Row(Artist='Asia', Music='Only Time Will Tell', Album='Asia', Year=1982, Genre='Progressive Rock', 2022=499, 2021=None, 2020=None, 2019=None, 2018=None, 2017=None, 2016=None, 2015=None),\n",
              " Row(Artist='Collective Soul', Music='Shine', Album='Hints Allegations and Things Left Unsaid', Year=1993, Genre='Alternative Rock', 2022=498, 2021=None, 2020=None, 2019=419, 2018=485, 2017=403, 2016=None, 2015=None),\n",
              " Row(Artist='Billy Idol', Music='Sweet Sixteen', Album='Whiplash Smile', Year=1986, Genre='Rock', 2022=497, 2021=None, 2020=None, 2019=None, 2018=None, 2017=None, 2016=None, 2015=None),\n",
              " Row(Artist='Collective Soul', Music='December', Album='Collective Soul', Year=1995, Genre='Alternative Rock', 2022=496, 2021=None, 2020=None, 2019=None, 2018=431, 2017=443, 2016=None, 2015=None),\n",
              " Row(Artist='Duran Duran', Music='Save a prayer', Album='Rio', Year=1982, Genre='Synthpop', 2022=495, 2021=466, 2020=None, 2019=381, 2018=292, 2017=None, 2016=488, 2015=None),\n",
              " Row(Artist='Men at Work', Music='Down Under', Album='Business as Usual', Year=1981, Genre='New Wave', 2022=494, 2021=None, 2020=190, 2019=172, 2018=108, 2017=451, 2016=406, 2015=167),\n",
              " Row(Artist='Brian Setzer', Music='Summertime Blues', Album='La Bamba soundtrack', Year=1987, Genre='Rock and Roll', 2022=493, 2021=None, 2020=None, 2019=None, 2018=None, 2017=None, 2016=None, 2015=None),\n",
              " Row(Artist='Simple Minds', Music='Dont You Forget About Me', Album='The Breakfast Club Original Motion Picture Soundtrack', Year=1985, Genre='Pop Rock', 2022=492, 2021=None, 2020=None, 2019=293, 2018=288, 2017=437, 2016=None, 2015=None),\n",
              " Row(Artist='Blue Oyster Cult', Music='Joan Crawford', Album='Fire of Unknown Origin', Year=1981, Genre='Hard Rock', 2022=491, 2021=None, 2020=174, 2019=209, 2018=None, 2017=311, 2016=403, 2015=None)]"
            ]
          },
          "metadata": {}
        }
      ]
    },
    {
      "cell_type": "markdown",
      "source": [
        "#criacao de schema"
      ],
      "metadata": {
        "id": "o8j7yg3kc-qt"
      }
    },
    {
      "cell_type": "code",
      "source": [
        "\n",
        "from pyspark.sql.types import StructType, StructField, IntegerType, DateType, StringType\n",
        "\n",
        "schema_df = StructType([\n",
        "    StructField(\"Year\", StringType())\n",
        "])"
      ],
      "metadata": {
        "id": "9l-6jYYBdAzY"
      },
      "execution_count": null,
      "outputs": []
    },
    {
      "cell_type": "code",
      "source": [
        "type(schema_df)"
      ],
      "metadata": {
        "colab": {
          "base_uri": "https://localhost:8080/"
        },
        "id": "kFlw7Uf2jJal",
        "outputId": "e1d91128-e1ab-4703-b171-c72aadbc24d9"
      },
      "execution_count": null,
      "outputs": [
        {
          "output_type": "execute_result",
          "data": {
            "text/plain": [
              "pyspark.sql.types.StructType"
            ]
          },
          "metadata": {},
          "execution_count": 110
        }
      ]
    },
    {
      "cell_type": "code",
      "source": [
        "df2 = spark.read.format(\"csv\")\\\n",
        ".option(\"header\", \"True\")\\\n",
        ".option(\"schema_df\",\"True\")\\\n",
        ".csv(arquivo)"
      ],
      "metadata": {
        "id": "FagqjOC6jYUu"
      },
      "execution_count": null,
      "outputs": []
    },
    {
      "cell_type": "code",
      "source": [
        "df2.printSchema()"
      ],
      "metadata": {
        "colab": {
          "base_uri": "https://localhost:8080/"
        },
        "id": "L2jo_FRjjq-c",
        "outputId": "59c9f11c-63ac-4f8a-d708-1fad87415a99"
      },
      "execution_count": null,
      "outputs": [
        {
          "output_type": "stream",
          "name": "stdout",
          "text": [
            "root\n",
            " |-- Artist: string (nullable = true)\n",
            " |-- Music: string (nullable = true)\n",
            " |-- Album: string (nullable = true)\n",
            " |-- Year: string (nullable = true)\n",
            " |-- Genre: string (nullable = true)\n",
            " |-- 2022: string (nullable = true)\n",
            " |-- 2021: string (nullable = true)\n",
            " |-- 2020: string (nullable = true)\n",
            " |-- 2019: string (nullable = true)\n",
            " |-- 2018: string (nullable = true)\n",
            " |-- 2017: string (nullable = true)\n",
            " |-- 2016: string (nullable = true)\n",
            " |-- 2015: string (nullable = true)\n",
            "\n"
          ]
        }
      ]
    },
    {
      "cell_type": "code",
      "source": [
        "df2.show(10)"
      ],
      "metadata": {
        "colab": {
          "base_uri": "https://localhost:8080/"
        },
        "id": "fPLu48D1jw0q",
        "outputId": "1f968d47-48fb-412d-9dc2-87e3403d42ae"
      },
      "execution_count": null,
      "outputs": [
        {
          "output_type": "stream",
          "name": "stdout",
          "text": [
            "+----------------+--------------------+--------------------+----+----------------+----+----+----+----+----+----+----+----+\n",
            "|          Artist|               Music|               Album|Year|           Genre|2022|2021|2020|2019|2018|2017|2016|2015|\n",
            "+----------------+--------------------+--------------------+----+----------------+----+----+----+----+----+----+----+----+\n",
            "|The Black Crowes|              Remedy|The Southern Harm...|1992|   Southern Rock| 500|null| 324| 290| 132|  64|  36|null|\n",
            "|            Asia| Only Time Will Tell|                Asia|1982|Progressive Rock| 499|null|null|null|null|null|null|null|\n",
            "| Collective Soul|               Shine|Hints Allegations...|1993|Alternative Rock| 498|null|null| 419| 485| 403|null|null|\n",
            "|      Billy Idol|       Sweet Sixteen|      Whiplash Smile|1986|            Rock| 497|null|null|null|null|null|null|null|\n",
            "| Collective Soul|            December|     Collective Soul|1995|Alternative Rock| 496|null|null|null| 431| 443|null|null|\n",
            "|     Duran Duran|       Save a prayer|                 Rio|1982|        Synthpop| 495| 466|null| 381| 292|null| 488|null|\n",
            "|     Men at Work|          Down Under|   Business as Usual|1981|        New Wave| 494|null| 190| 172| 108| 451| 406| 167|\n",
            "|    Brian Setzer|    Summertime Blues| La Bamba soundtrack|1987|   Rock and Roll| 493|null|null|null|null|null|null|null|\n",
            "|    Simple Minds|Dont You Forget A...|The Breakfast Clu...|1985|        Pop Rock| 492|null|null| 293| 288| 437|null|null|\n",
            "|Blue Oyster Cult|       Joan Crawford|Fire of Unknown O...|1981|       Hard Rock| 491|null| 174| 209|null| 311| 403|null|\n",
            "+----------------+--------------------+--------------------+----+----------------+----+----+----+----+----+----+----+----+\n",
            "only showing top 10 rows\n",
            "\n"
          ]
        }
      ]
    },
    {
      "cell_type": "code",
      "source": [
        "#array\n",
        "df.take(5)"
      ],
      "metadata": {
        "colab": {
          "base_uri": "https://localhost:8080/"
        },
        "id": "jbg1ouhAkUOV",
        "outputId": "d701a7e2-0f50-4027-96f3-8049725c1404"
      },
      "execution_count": null,
      "outputs": [
        {
          "output_type": "execute_result",
          "data": {
            "text/plain": [
              "[Row(Artist='The Black Crowes', Music='Remedy', Album='The Southern Harmony and Musical Companion', Year=1992, Genre='Southern Rock', 2022=500, 2021=None, 2020=324, 2019=290, 2018=132, 2017=64, 2016=36, 2015=None),\n",
              " Row(Artist='Asia', Music='Only Time Will Tell', Album='Asia', Year=1982, Genre='Progressive Rock', 2022=499, 2021=None, 2020=None, 2019=None, 2018=None, 2017=None, 2016=None, 2015=None),\n",
              " Row(Artist='Collective Soul', Music='Shine', Album='Hints Allegations and Things Left Unsaid', Year=1993, Genre='Alternative Rock', 2022=498, 2021=None, 2020=None, 2019=419, 2018=485, 2017=403, 2016=None, 2015=None),\n",
              " Row(Artist='Billy Idol', Music='Sweet Sixteen', Album='Whiplash Smile', Year=1986, Genre='Rock', 2022=497, 2021=None, 2020=None, 2019=None, 2018=None, 2017=None, 2016=None, 2015=None),\n",
              " Row(Artist='Collective Soul', Music='December', Album='Collective Soul', Year=1995, Genre='Alternative Rock', 2022=496, 2021=None, 2020=None, 2019=None, 2018=431, 2017=443, 2016=None, 2015=None)]"
            ]
          },
          "metadata": {},
          "execution_count": 113
        }
      ]
    },
    {
      "cell_type": "code",
      "source": [
        "from pyspark.sql.functions import max\n",
        "df.select(max(\"2022\")).show(1)"
      ],
      "metadata": {
        "colab": {
          "base_uri": "https://localhost:8080/"
        },
        "id": "EDpkRoj-ml3G",
        "outputId": "0cebc352-4683-482a-d3ca-fe5db7bc2c55"
      },
      "execution_count": null,
      "outputs": [
        {
          "output_type": "stream",
          "name": "stdout",
          "text": [
            "+---------+\n",
            "|max(2022)|\n",
            "+---------+\n",
            "|      500|\n",
            "+---------+\n",
            "\n"
          ]
        }
      ]
    },
    {
      "cell_type": "code",
      "source": [
        "df.filter(\"2022 > 100\").show(5)"
      ],
      "metadata": {
        "colab": {
          "base_uri": "https://localhost:8080/"
        },
        "id": "InnNhsUVm8cr",
        "outputId": "e7001759-caaf-48df-9a8b-a3c5cf12532f"
      },
      "execution_count": null,
      "outputs": [
        {
          "output_type": "stream",
          "name": "stdout",
          "text": [
            "+----------------+-------------------+--------------------+----+----------------+----+----+----+----+----+----+----+----+\n",
            "|          Artist|              Music|               Album|Year|           Genre|2022|2021|2020|2019|2018|2017|2016|2015|\n",
            "+----------------+-------------------+--------------------+----+----------------+----+----+----+----+----+----+----+----+\n",
            "|The Black Crowes|             Remedy|The Southern Harm...|1992|   Southern Rock| 500|null| 324| 290| 132|  64|  36|null|\n",
            "|            Asia|Only Time Will Tell|                Asia|1982|Progressive Rock| 499|null|null|null|null|null|null|null|\n",
            "| Collective Soul|              Shine|Hints Allegations...|1993|Alternative Rock| 498|null|null| 419| 485| 403|null|null|\n",
            "|      Billy Idol|      Sweet Sixteen|      Whiplash Smile|1986|            Rock| 497|null|null|null|null|null|null|null|\n",
            "| Collective Soul|           December|     Collective Soul|1995|Alternative Rock| 496|null|null|null| 431| 443|null|null|\n",
            "+----------------+-------------------+--------------------+----+----------------+----+----+----+----+----+----+----+----+\n",
            "only showing top 5 rows\n",
            "\n"
          ]
        }
      ]
    },
    {
      "cell_type": "code",
      "source": [
        "df.where(\"2022 > 100\").show(5)"
      ],
      "metadata": {
        "colab": {
          "base_uri": "https://localhost:8080/"
        },
        "id": "nxSuQ_Usnj7P",
        "outputId": "1cbb4cc1-da0c-4b34-9b26-beb4338e8154"
      },
      "execution_count": null,
      "outputs": [
        {
          "output_type": "stream",
          "name": "stdout",
          "text": [
            "+----------------+-------------------+--------------------+----+----------------+----+----+----+----+----+----+----+----+\n",
            "|          Artist|              Music|               Album|Year|           Genre|2022|2021|2020|2019|2018|2017|2016|2015|\n",
            "+----------------+-------------------+--------------------+----+----------------+----+----+----+----+----+----+----+----+\n",
            "|The Black Crowes|             Remedy|The Southern Harm...|1992|   Southern Rock| 500|null| 324| 290| 132|  64|  36|null|\n",
            "|            Asia|Only Time Will Tell|                Asia|1982|Progressive Rock| 499|null|null|null|null|null|null|null|\n",
            "| Collective Soul|              Shine|Hints Allegations...|1993|Alternative Rock| 498|null|null| 419| 485| 403|null|null|\n",
            "|      Billy Idol|      Sweet Sixteen|      Whiplash Smile|1986|            Rock| 497|null|null|null|null|null|null|null|\n",
            "| Collective Soul|           December|     Collective Soul|1995|Alternative Rock| 496|null|null|null| 431| 443|null|null|\n",
            "+----------------+-------------------+--------------------+----+----------------+----+----+----+----+----+----+----+----+\n",
            "only showing top 5 rows\n",
            "\n"
          ]
        }
      ]
    },
    {
      "cell_type": "code",
      "source": [
        "df.sort(\"Genre\").show(10)"
      ],
      "metadata": {
        "colab": {
          "base_uri": "https://localhost:8080/"
        },
        "id": "7wJq42AZoSqv",
        "outputId": "5a35bbbf-73c5-421f-afc2-99b90aad8109"
      },
      "execution_count": null,
      "outputs": [
        {
          "output_type": "stream",
          "name": "stdout",
          "text": [
            "+--------------------+--------------------+--------------------+----+-----------------+----+----+----+----+----+----+----+----+\n",
            "|              Artist|               Music|               Album|Year|            Genre|2022|2021|2020|2019|2018|2017|2016|2015|\n",
            "+--------------------+--------------------+--------------------+----+-----------------+----+----+----+----+----+----+----+----+\n",
            "|        Janis Joplin|       Mercedes Benz|               Pearl|1972|       A Cappella|  37|  29| 278| 217| 184|null|  92|null|\n",
            "|             Extreme|     More than words|Extreme II: Porno...|1990|    Acoustic Rock| 185|  85| 285| 399| 207|null| 339|null|\n",
            "|    System of a Down|           Chop Suey|            Toxicity|2001|Alternative Metal| 374|null| 209| 471|null| 496|null|null|\n",
            "|         Linkin Park|                Numb|             Meteora|2003| Alternative Rock| 453| 465| 377| 239| 367| 462|null|null|\n",
            "|                  U2|                 Bad|The Unforgettable...|1984| Alternative Rock| 415|null|null| 183|  61|null|null|null|\n",
            "|           Pearl Jam|           Last Kiss|No Boundaries: A ...|1999| Alternative Rock| 451| 227| 210|null|null|null|null|null|\n",
            "|           Green Day|Boulevard of Brok...|      American Idiot|2004| Alternative Rock| 437|null|null|null|null|null|null|null|\n",
            "|   The White Stripes|   Seven Nation Army|            Elephant|2003| Alternative Rock| 436|null|null| 269| 384|null|null|null|\n",
            "|Echo and the Bunn...|     Lips Like Sugar|Echo and the Bunn...|1987| Alternative Rock| 474| 385| 327|null| 410| 358| 478| 152|\n",
            "|     Collective Soul|            December|     Collective Soul|1995| Alternative Rock| 496|null|null|null| 431| 443|null|null|\n",
            "+--------------------+--------------------+--------------------+----+-----------------+----+----+----+----+----+----+----+----+\n",
            "only showing top 10 rows\n",
            "\n"
          ]
        }
      ]
    },
    {
      "cell_type": "code",
      "source": [
        "from pyspark.sql.functions import desc, asc, expr\n",
        "#ordenando por ordem crescente \n",
        "df.orderBy(expr(\"Year asc\")).show(10)"
      ],
      "metadata": {
        "colab": {
          "base_uri": "https://localhost:8080/"
        },
        "id": "vrbSjVKAohYJ",
        "outputId": "5b139f5c-8bd4-4218-d14a-1eaf5a507f97"
      },
      "execution_count": null,
      "outputs": [
        {
          "output_type": "stream",
          "name": "stdout",
          "text": [
            "+--------------------+--------------------+--------------------+----+-------------+----+----+----+----+----+----+----+----+\n",
            "|              Artist|               Music|               Album|Year|        Genre|2022|2021|2020|2019|2018|2017|2016|2015|\n",
            "+--------------------+--------------------+--------------------+----+-------------+----+----+----+----+----+----+----+----+\n",
            "|Bill Haley and Hi...|Rock Around the C...|Rock Around the C...|1955|Rock and Roll| 162| 305|null|null|null|null|null|null|\n",
            "|       Elvis Presley|    Blue Suede Shoes|       Elvis Presley|1956|Rock and Roll|  24| 146|null| 366| 423|null| 126|null|\n",
            "|       Elvis Presley|       Dont Be Cruel|              Single|1956|Rock and Roll| 246| 120|null|null|null|null|null|null|\n",
            "|      Chubby Checker|    Lets Twist Again|              Single|1961|Rock and Roll|  88|null|null|null|null|null|null|null|\n",
            "|      The Beach Boys|          Surfin USA|          Surfin USA|1963|    Surf Rock| 206|null| 414| 459| 282|null| 252|null|\n",
            "|         The Beatles|     Twist and Shout|    Please Please Me|1963|Rock and Roll|  83|null|null|null|null|null|null|null|\n",
            "|         The Beatles|       She Loves You|              Single|1963|   Merseybeat| 110|null|null|null| 140|null|null|null|\n",
            "|         The Beatles|       All My Loving|    With the Beatles|1963|   Merseybeat| 240|null|null| 443| 213|null| 133|null|\n",
            "|           The Kinks|   You Really Got Me|               Kinks|1964|Rock and Roll| 483| 299| 437| 292|null| 312| 225| 412|\n",
            "|         The Beatles|    Cant Buy Me Love|   A Hard Days Night|1964|Rock and Roll| 170|null|null|null|null|null|null|null|\n",
            "+--------------------+--------------------+--------------------+----+-------------+----+----+----+----+----+----+----+----+\n",
            "only showing top 10 rows\n",
            "\n"
          ]
        }
      ]
    },
    {
      "cell_type": "code",
      "source": [
        "#estatisticas descritivas\n",
        "df.describe().show()"
      ],
      "metadata": {
        "colab": {
          "base_uri": "https://localhost:8080/"
        },
        "id": "onpFxP0opr67",
        "outputId": "f42364d1-2b05-48b1-816e-78d4fb705316"
      },
      "execution_count": null,
      "outputs": [
        {
          "output_type": "stream",
          "name": "stdout",
          "text": [
            "+-------+-------------+------------+--------------------+------------------+----------+-----------------+------------------+------------------+------------------+------------------+------------------+-----------------+------------------+\n",
            "|summary|       Artist|       Music|               Album|              Year|     Genre|             2022|              2021|              2020|              2019|              2018|              2017|             2016|              2015|\n",
            "+-------+-------------+------------+--------------------+------------------+----------+-----------------+------------------+------------------+------------------+------------------+------------------+-----------------+------------------+\n",
            "|  count|          500|         500|                 497|               500|       500|              500|               308|               239|               261|               260|               260|              226|               185|\n",
            "|   mean|         null|        null|  32089.833333333332|          1983.146|      null|            250.5|215.67857142857142|194.10041841004184| 205.9655172413793| 205.2076923076923|202.76153846153846|202.4070796460177|192.85945945945946|\n",
            "| stddev|         null|        null|   44996.59567308027|11.990505763182592|      null|144.4818327679989|143.10321983201945|137.75995426764703|141.67279052661033|143.99480879498728|142.23089085788044| 145.698326821363| 140.3496090115901|\n",
            "|    min|4 Non Blondes|\"\"\"Heroes\"\"\"| With a Little He...|              1955|A Cappella|                1|                 1|                 1|                 1|                 1|                 1|                1|                 1|\n",
            "|    max|    blink-182|      Zombie|You Could Have It...|              2019| Worldbeat|              500|               500|               499|               494|               496|               500|              498|               500|\n",
            "+-------+-------------+------------+--------------------+------------------+----------+-----------------+------------------+------------------+------------------+------------------+------------------+-----------------+------------------+\n",
            "\n"
          ]
        }
      ]
    },
    {
      "cell_type": "markdown",
      "source": [
        "#Collect"
      ],
      "metadata": {
        "id": "_K1P-v3yxq5r"
      }
    },
    {
      "cell_type": "code",
      "source": [
        " #linhas do dataframe\n",
        " for i in df.collect():\n",
        "   print(i)"
      ],
      "metadata": {
        "id": "PcrQyrqkqi43"
      },
      "execution_count": null,
      "outputs": []
    },
    {
      "cell_type": "code",
      "source": [
        "df.show(10)"
      ],
      "metadata": {
        "colab": {
          "base_uri": "https://localhost:8080/"
        },
        "id": "m-MZ8HcpsZ83",
        "outputId": "8d246b25-1020-41df-ae54-b93afda84f11"
      },
      "execution_count": null,
      "outputs": [
        {
          "output_type": "stream",
          "name": "stdout",
          "text": [
            "+----------------+--------------------+--------------------+----+----------------+----+----+----+----+----+----+----+----+\n",
            "|          Artist|               Music|               Album|Year|           Genre|2022|2021|2020|2019|2018|2017|2016|2015|\n",
            "+----------------+--------------------+--------------------+----+----------------+----+----+----+----+----+----+----+----+\n",
            "|The Black Crowes|              Remedy|The Southern Harm...|1992|   Southern Rock| 500|null| 324| 290| 132|  64|  36|null|\n",
            "|            Asia| Only Time Will Tell|                Asia|1982|Progressive Rock| 499|null|null|null|null|null|null|null|\n",
            "| Collective Soul|               Shine|Hints Allegations...|1993|Alternative Rock| 498|null|null| 419| 485| 403|null|null|\n",
            "|      Billy Idol|       Sweet Sixteen|      Whiplash Smile|1986|            Rock| 497|null|null|null|null|null|null|null|\n",
            "| Collective Soul|            December|     Collective Soul|1995|Alternative Rock| 496|null|null|null| 431| 443|null|null|\n",
            "|     Duran Duran|       Save a prayer|                 Rio|1982|        Synthpop| 495| 466|null| 381| 292|null| 488|null|\n",
            "|     Men at Work|          Down Under|   Business as Usual|1981|        New Wave| 494|null| 190| 172| 108| 451| 406| 167|\n",
            "|    Brian Setzer|    Summertime Blues| La Bamba soundtrack|1987|   Rock and Roll| 493|null|null|null|null|null|null|null|\n",
            "|    Simple Minds|Dont You Forget A...|The Breakfast Clu...|1985|        Pop Rock| 492|null|null| 293| 288| 437|null|null|\n",
            "|Blue Oyster Cult|       Joan Crawford|Fire of Unknown O...|1981|       Hard Rock| 491|null| 174| 209|null| 311| 403|null|\n",
            "+----------------+--------------------+--------------------+----+----------------+----+----+----+----+----+----+----+----+\n",
            "only showing top 10 rows\n",
            "\n"
          ]
        }
      ]
    },
    {
      "cell_type": "code",
      "source": [
        "#alteerar cada linha da coluna\n",
        "df_Year = df.withColumn('Year', df['Year']+ 2)\n",
        "df_Year.show(10)"
      ],
      "metadata": {
        "colab": {
          "base_uri": "https://localhost:8080/"
        },
        "id": "eF46FtQurSQS",
        "outputId": "8d5b511d-d423-46fc-b21d-fbe407f7d6ea"
      },
      "execution_count": null,
      "outputs": [
        {
          "output_type": "stream",
          "name": "stdout",
          "text": [
            "+----------------+--------------------+--------------------+----+----------------+----+----+----+----+----+----+----+----+\n",
            "|          Artist|               Music|               Album|Year|           Genre|2022|2021|2020|2019|2018|2017|2016|2015|\n",
            "+----------------+--------------------+--------------------+----+----------------+----+----+----+----+----+----+----+----+\n",
            "|The Black Crowes|              Remedy|The Southern Harm...|1994|   Southern Rock| 500|null| 324| 290| 132|  64|  36|null|\n",
            "|            Asia| Only Time Will Tell|                Asia|1984|Progressive Rock| 499|null|null|null|null|null|null|null|\n",
            "| Collective Soul|               Shine|Hints Allegations...|1995|Alternative Rock| 498|null|null| 419| 485| 403|null|null|\n",
            "|      Billy Idol|       Sweet Sixteen|      Whiplash Smile|1988|            Rock| 497|null|null|null|null|null|null|null|\n",
            "| Collective Soul|            December|     Collective Soul|1997|Alternative Rock| 496|null|null|null| 431| 443|null|null|\n",
            "|     Duran Duran|       Save a prayer|                 Rio|1984|        Synthpop| 495| 466|null| 381| 292|null| 488|null|\n",
            "|     Men at Work|          Down Under|   Business as Usual|1983|        New Wave| 494|null| 190| 172| 108| 451| 406| 167|\n",
            "|    Brian Setzer|    Summertime Blues| La Bamba soundtrack|1989|   Rock and Roll| 493|null|null|null|null|null|null|null|\n",
            "|    Simple Minds|Dont You Forget A...|The Breakfast Clu...|1987|        Pop Rock| 492|null|null| 293| 288| 437|null|null|\n",
            "|Blue Oyster Cult|       Joan Crawford|Fire of Unknown O...|1983|       Hard Rock| 491|null| 174| 209|null| 311| 403|null|\n",
            "+----------------+--------------------+--------------------+----+----------------+----+----+----+----+----+----+----+----+\n",
            "only showing top 10 rows\n",
            "\n"
          ]
        }
      ]
    },
    {
      "cell_type": "code",
      "source": [
        "df = df.withColumn('Nova Coluna', df['Year']+ 2)\n",
        "df.show(10)"
      ],
      "metadata": {
        "colab": {
          "base_uri": "https://localhost:8080/"
        },
        "id": "t8vmDnejsb8W",
        "outputId": "904b4a8f-ff9c-49eb-e6d3-88bcd7886a84"
      },
      "execution_count": null,
      "outputs": [
        {
          "output_type": "stream",
          "name": "stdout",
          "text": [
            "+----------------+--------------------+--------------------+----+----------------+----+----+----+----+----+----+----+----+-----------+\n",
            "|          Artist|               Music|               Album|Year|           Genre|2022|2021|2020|2019|2018|2017|2016|2015|Nova Coluna|\n",
            "+----------------+--------------------+--------------------+----+----------------+----+----+----+----+----+----+----+----+-----------+\n",
            "|The Black Crowes|              Remedy|The Southern Harm...|1992|   Southern Rock| 500|null| 324| 290| 132|  64|  36|null|       1994|\n",
            "|            Asia| Only Time Will Tell|                Asia|1982|Progressive Rock| 499|null|null|null|null|null|null|null|       1984|\n",
            "| Collective Soul|               Shine|Hints Allegations...|1993|Alternative Rock| 498|null|null| 419| 485| 403|null|null|       1995|\n",
            "|      Billy Idol|       Sweet Sixteen|      Whiplash Smile|1986|            Rock| 497|null|null|null|null|null|null|null|       1988|\n",
            "| Collective Soul|            December|     Collective Soul|1995|Alternative Rock| 496|null|null|null| 431| 443|null|null|       1997|\n",
            "|     Duran Duran|       Save a prayer|                 Rio|1982|        Synthpop| 495| 466|null| 381| 292|null| 488|null|       1984|\n",
            "|     Men at Work|          Down Under|   Business as Usual|1981|        New Wave| 494|null| 190| 172| 108| 451| 406| 167|       1983|\n",
            "|    Brian Setzer|    Summertime Blues| La Bamba soundtrack|1987|   Rock and Roll| 493|null|null|null|null|null|null|null|       1989|\n",
            "|    Simple Minds|Dont You Forget A...|The Breakfast Clu...|1985|        Pop Rock| 492|null|null| 293| 288| 437|null|null|       1987|\n",
            "|Blue Oyster Cult|       Joan Crawford|Fire of Unknown O...|1981|       Hard Rock| 491|null| 174| 209|null| 311| 403|null|       1983|\n",
            "+----------------+--------------------+--------------------+----+----------------+----+----+----+----+----+----+----+----+-----------+\n",
            "only showing top 10 rows\n",
            "\n"
          ]
        }
      ]
    },
    {
      "cell_type": "code",
      "source": [
        "df = df.drop('Nova Coluna')\n",
        "df.show(10)"
      ],
      "metadata": {
        "colab": {
          "base_uri": "https://localhost:8080/"
        },
        "id": "3F3VMl6MtgEm",
        "outputId": "7b30d560-399f-49b2-a53b-da059cc372ba"
      },
      "execution_count": null,
      "outputs": [
        {
          "output_type": "stream",
          "name": "stdout",
          "text": [
            "+----------------+--------------------+--------------------+----+----------------+----+----+----+----+----+----+----+----+\n",
            "|          Artist|               Music|               Album|Year|           Genre|2022|2021|2020|2019|2018|2017|2016|2015|\n",
            "+----------------+--------------------+--------------------+----+----------------+----+----+----+----+----+----+----+----+\n",
            "|The Black Crowes|              Remedy|The Southern Harm...|1992|   Southern Rock| 500|null| 324| 290| 132|  64|  36|null|\n",
            "|            Asia| Only Time Will Tell|                Asia|1982|Progressive Rock| 499|null|null|null|null|null|null|null|\n",
            "| Collective Soul|               Shine|Hints Allegations...|1993|Alternative Rock| 498|null|null| 419| 485| 403|null|null|\n",
            "|      Billy Idol|       Sweet Sixteen|      Whiplash Smile|1986|            Rock| 497|null|null|null|null|null|null|null|\n",
            "| Collective Soul|            December|     Collective Soul|1995|Alternative Rock| 496|null|null|null| 431| 443|null|null|\n",
            "|     Duran Duran|       Save a prayer|                 Rio|1982|        Synthpop| 495| 466|null| 381| 292|null| 488|null|\n",
            "|     Men at Work|          Down Under|   Business as Usual|1981|        New Wave| 494|null| 190| 172| 108| 451| 406| 167|\n",
            "|    Brian Setzer|    Summertime Blues| La Bamba soundtrack|1987|   Rock and Roll| 493|null|null|null|null|null|null|null|\n",
            "|    Simple Minds|Dont You Forget A...|The Breakfast Clu...|1985|        Pop Rock| 492|null|null| 293| 288| 437|null|null|\n",
            "|Blue Oyster Cult|       Joan Crawford|Fire of Unknown O...|1981|       Hard Rock| 491|null| 174| 209|null| 311| 403|null|\n",
            "+----------------+--------------------+--------------------+----+----------------+----+----+----+----+----+----+----+----+\n",
            "only showing top 10 rows\n",
            "\n"
          ]
        }
      ]
    },
    {
      "cell_type": "code",
      "source": [
        "df.withColumnRenamed('Nova Coluna', 'New Column').show(10)"
      ],
      "metadata": {
        "colab": {
          "base_uri": "https://localhost:8080/"
        },
        "id": "Zph4CSN4tzgj",
        "outputId": "1a90a44b-184f-4b10-a3a3-bf7f7fbdbbdf"
      },
      "execution_count": null,
      "outputs": [
        {
          "output_type": "stream",
          "name": "stdout",
          "text": [
            "+----------------+--------------------+--------------------+----+----------------+----+----+----+----+----+----+----+----+----------+\n",
            "|          Artist|               Music|               Album|Year|           Genre|2022|2021|2020|2019|2018|2017|2016|2015|New Column|\n",
            "+----------------+--------------------+--------------------+----+----------------+----+----+----+----+----+----+----+----+----------+\n",
            "|The Black Crowes|              Remedy|The Southern Harm...|1992|   Southern Rock| 500|null| 324| 290| 132|  64|  36|null|      1994|\n",
            "|            Asia| Only Time Will Tell|                Asia|1982|Progressive Rock| 499|null|null|null|null|null|null|null|      1984|\n",
            "| Collective Soul|               Shine|Hints Allegations...|1993|Alternative Rock| 498|null|null| 419| 485| 403|null|null|      1995|\n",
            "|      Billy Idol|       Sweet Sixteen|      Whiplash Smile|1986|            Rock| 497|null|null|null|null|null|null|null|      1988|\n",
            "| Collective Soul|            December|     Collective Soul|1995|Alternative Rock| 496|null|null|null| 431| 443|null|null|      1997|\n",
            "|     Duran Duran|       Save a prayer|                 Rio|1982|        Synthpop| 495| 466|null| 381| 292|null| 488|null|      1984|\n",
            "|     Men at Work|          Down Under|   Business as Usual|1981|        New Wave| 494|null| 190| 172| 108| 451| 406| 167|      1983|\n",
            "|    Brian Setzer|    Summertime Blues| La Bamba soundtrack|1987|   Rock and Roll| 493|null|null|null|null|null|null|null|      1989|\n",
            "|    Simple Minds|Dont You Forget A...|The Breakfast Clu...|1985|        Pop Rock| 492|null|null| 293| 288| 437|null|null|      1987|\n",
            "|Blue Oyster Cult|       Joan Crawford|Fire of Unknown O...|1981|       Hard Rock| 491|null| 174| 209|null| 311| 403|null|      1983|\n",
            "+----------------+--------------------+--------------------+----+----------------+----+----+----+----+----+----+----+----+----------+\n",
            "only showing top 10 rows\n",
            "\n"
          ]
        }
      ]
    },
    {
      "cell_type": "markdown",
      "source": [
        "#missing values"
      ],
      "metadata": {
        "id": "VRuItpiXum-K"
      }
    },
    {
      "cell_type": "code",
      "source": [
        "\n",
        "teste = df.filter(\"2022 is not null\")"
      ],
      "metadata": {
        "id": "GarNwk5Tuk4b"
      },
      "execution_count": null,
      "outputs": []
    },
    {
      "cell_type": "code",
      "source": [
        "teste.printSchema()"
      ],
      "metadata": {
        "colab": {
          "base_uri": "https://localhost:8080/"
        },
        "id": "CzBUcsZ3vq3l",
        "outputId": "ffda3ba6-e992-4093-89f1-bd5159291461"
      },
      "execution_count": null,
      "outputs": [
        {
          "output_type": "stream",
          "name": "stdout",
          "text": [
            "root\n",
            " |-- Artist: string (nullable = true)\n",
            " |-- Music: string (nullable = true)\n",
            " |-- Album: string (nullable = true)\n",
            " |-- Year: integer (nullable = true)\n",
            " |-- Genre: string (nullable = true)\n",
            " |-- 2022: integer (nullable = true)\n",
            " |-- 2021: integer (nullable = true)\n",
            " |-- 2020: integer (nullable = true)\n",
            " |-- 2019: integer (nullable = true)\n",
            " |-- 2018: integer (nullable = true)\n",
            " |-- 2017: integer (nullable = true)\n",
            " |-- 2016: integer (nullable = true)\n",
            " |-- 2015: integer (nullable = true)\n",
            "\n"
          ]
        }
      ]
    },
    {
      "cell_type": "code",
      "source": [
        "teste.count()"
      ],
      "metadata": {
        "colab": {
          "base_uri": "https://localhost:8080/"
        },
        "id": "O3R25ihyv6Ru",
        "outputId": "3e49ce38-b070-4d97-badb-0f8a6b7bdabe"
      },
      "execution_count": null,
      "outputs": [
        {
          "output_type": "execute_result",
          "data": {
            "text/plain": [
              "500"
            ]
          },
          "metadata": {},
          "execution_count": 176
        }
      ]
    },
    {
      "cell_type": "code",
      "source": [
        "df.na.fill()\n"
      ],
      "metadata": {
        "id": "i-Q0sH2uwL_j"
      },
      "execution_count": null,
      "outputs": []
    },
    {
      "cell_type": "code",
      "source": [],
      "metadata": {
        "id": "eVUTU0QSzOyG"
      },
      "execution_count": null,
      "outputs": []
    },
    {
      "cell_type": "markdown",
      "source": [
        "#tratamento de txt"
      ],
      "metadata": {
        "id": "W_2fx0nXzQs8"
      }
    },
    {
      "cell_type": "code",
      "source": [
        "from pyspark.sql.functions import rtrim, lit, ltrim, rpad, lpad, trim"
      ],
      "metadata": {
        "id": "74W6HioOzVx8"
      },
      "execution_count": null,
      "outputs": []
    },
    {
      "cell_type": "code",
      "source": [
        "  help(rtrim)"
      ],
      "metadata": {
        "colab": {
          "base_uri": "https://localhost:8080/"
        },
        "id": "HL-d0_3hzaxF",
        "outputId": "f0fb5c04-96c6-49b5-c35c-1e44e147f6cb"
      },
      "execution_count": null,
      "outputs": [
        {
          "output_type": "stream",
          "name": "stdout",
          "text": [
            "Help on function rtrim in module pyspark.sql.functions:\n",
            "\n",
            "rtrim(col: 'ColumnOrName') -> pyspark.sql.column.Column\n",
            "    Trim the spaces from right end for the specified string value.\n",
            "    \n",
            "    .. versionadded:: 1.5\n",
            "\n"
          ]
        }
      ]
    },
    {
      "cell_type": "code",
      "source": [
        "df.show(5)"
      ],
      "metadata": {
        "colab": {
          "base_uri": "https://localhost:8080/"
        },
        "id": "kKmq6TY5zd2m",
        "outputId": "a0df73e6-4554-43c8-9c77-6ecba85133d4"
      },
      "execution_count": null,
      "outputs": [
        {
          "output_type": "stream",
          "name": "stdout",
          "text": [
            "+----------------+-------------------+--------------------+----+----------------+----+----+----+----+----+----+----+----+\n",
            "|          Artist|              Music|               Album|Year|           Genre|2022|2021|2020|2019|2018|2017|2016|2015|\n",
            "+----------------+-------------------+--------------------+----+----------------+----+----+----+----+----+----+----+----+\n",
            "|The Black Crowes|             Remedy|The Southern Harm...|1992|   Southern Rock| 500|null| 324| 290| 132|  64|  36|null|\n",
            "|            Asia|Only Time Will Tell|                Asia|1982|Progressive Rock| 499|null|null|null|null|null|null|null|\n",
            "| Collective Soul|              Shine|Hints Allegations...|1993|Alternative Rock| 498|null|null| 419| 485| 403|null|null|\n",
            "|      Billy Idol|      Sweet Sixteen|      Whiplash Smile|1986|            Rock| 497|null|null|null|null|null|null|null|\n",
            "| Collective Soul|           December|     Collective Soul|1995|Alternative Rock| 496|null|null|null| 431| 443|null|null|\n",
            "+----------------+-------------------+--------------------+----+----------------+----+----+----+----+----+----+----+----+\n",
            "only showing top 5 rows\n",
            "\n"
          ]
        }
      ]
    },
    {
      "cell_type": "markdown",
      "source": [
        "Estatistica descritiva basica\n",
        "\n",
        "\n",
        "*   mean() - retorna o valor medio de cada grupo\n",
        "*   max() - retorna o valor max ||\n",
        "*   min() - \n",
        "*   Sum() - \n",
        "*   avg() - \n",
        "\n",
        "\n",
        "\n",
        "\n",
        "\n",
        "\n"
      ],
      "metadata": {
        "id": "QHp9zVwi0JXt"
      }
    },
    {
      "cell_type": "code",
      "source": [
        "df3 = spark.read.format(\"csv\")\\\n",
        ".option(\"header\", \"True\")\\\n",
        ".option(\"inferSchema\",\"True\")\\\n",
        ".load(\"/content/drive/MyDrive/Datalake/landing/retail_2010_12_01.csv\")"
      ],
      "metadata": {
        "id": "WQj5CFJ40nsZ"
      },
      "execution_count": null,
      "outputs": []
    },
    {
      "cell_type": "code",
      "source": [
        "df3.show(10)"
      ],
      "metadata": {
        "colab": {
          "base_uri": "https://localhost:8080/"
        },
        "id": "55zT0drZ0_kv",
        "outputId": "1ab26e2e-3705-41d1-b629-ca1457ea6e45"
      },
      "execution_count": null,
      "outputs": [
        {
          "output_type": "stream",
          "name": "stdout",
          "text": [
            "+---------+---------+--------------------+--------+-------------------+---------+----------+--------------+\n",
            "|InvoiceNo|StockCode|         Description|Quantity|        InvoiceDate|UnitPrice|CustomerID|       Country|\n",
            "+---------+---------+--------------------+--------+-------------------+---------+----------+--------------+\n",
            "|   536365|   85123A|WHITE HANGING HEA...|       6|2010-12-01 08:26:00|     2.55|   17850.0|United Kingdom|\n",
            "|   536365|    71053| WHITE METAL LANTERN|       6|2010-12-01 08:26:00|     3.39|   17850.0|United Kingdom|\n",
            "|   536365|   84406B|CREAM CUPID HEART...|       8|2010-12-01 08:26:00|     2.75|   17850.0|United Kingdom|\n",
            "|   536365|   84029G|KNITTED UNION FLA...|       6|2010-12-01 08:26:00|     3.39|   17850.0|United Kingdom|\n",
            "|   536365|   84029E|RED WOOLLY HOTTIE...|       6|2010-12-01 08:26:00|     3.39|   17850.0|United Kingdom|\n",
            "|   536365|    22752|SET 7 BABUSHKA NE...|       2|2010-12-01 08:26:00|     7.65|   17850.0|United Kingdom|\n",
            "|   536365|    21730|GLASS STAR FROSTE...|       6|2010-12-01 08:26:00|     4.25|   17850.0|United Kingdom|\n",
            "|   536366|    22633|HAND WARMER UNION...|       6|2010-12-01 08:28:00|     1.85|   17850.0|United Kingdom|\n",
            "|   536366|    22632|HAND WARMER RED P...|       6|2010-12-01 08:28:00|     1.85|   17850.0|United Kingdom|\n",
            "|   536367|    84879|ASSORTED COLOUR B...|      32|2010-12-01 08:34:00|     1.69|   13047.0|United Kingdom|\n",
            "+---------+---------+--------------------+--------+-------------------+---------+----------+--------------+\n",
            "only showing top 10 rows\n",
            "\n"
          ]
        }
      ]
    },
    {
      "cell_type": "code",
      "source": [
        " # soma precos unitarios por pais\n",
        " df3.groupby('Country').sum('UnitPrice').show()"
      ],
      "metadata": {
        "colab": {
          "base_uri": "https://localhost:8080/"
        },
        "id": "oMUr-d-x1CyH",
        "outputId": "6157472a-1b25-41c6-e7e2-64def0c6e33c"
      },
      "execution_count": null,
      "outputs": [
        {
          "output_type": "stream",
          "name": "stdout",
          "text": [
            "+--------------+------------------+\n",
            "|       Country|    sum(UnitPrice)|\n",
            "+--------------+------------------+\n",
            "|       Germany| 93.82000000000002|\n",
            "|        France|             55.29|\n",
            "|          EIRE|133.64000000000001|\n",
            "|        Norway|            102.67|\n",
            "|     Australia|              73.9|\n",
            "|United Kingdom|12428.080000000024|\n",
            "|   Netherlands|             16.85|\n",
            "+--------------+------------------+\n",
            "\n"
          ]
        }
      ]
    },
    {
      "cell_type": "code",
      "source": [
        "#conta a qtd de paises distintos\n",
        "df3.groupBy(\"Country\").count().show()"
      ],
      "metadata": {
        "colab": {
          "base_uri": "https://localhost:8080/"
        },
        "id": "Hlf1Mond1ntT",
        "outputId": "da99dbca-4d04-4da1-c7bc-bf056d60c2c4"
      },
      "execution_count": null,
      "outputs": [
        {
          "output_type": "stream",
          "name": "stdout",
          "text": [
            "+--------------+-----+\n",
            "|       Country|count|\n",
            "+--------------+-----+\n",
            "|       Germany|   29|\n",
            "|        France|   20|\n",
            "|          EIRE|   21|\n",
            "|        Norway|   73|\n",
            "|     Australia|   14|\n",
            "|United Kingdom| 2949|\n",
            "|   Netherlands|    2|\n",
            "+--------------+-----+\n",
            "\n"
          ]
        }
      ]
    },
    {
      "cell_type": "code",
      "source": [
        "#valor minimo por grupo\n",
        "df3.groupBy(\"Country\").min(\"UnitPrice\").show() "
      ],
      "metadata": {
        "colab": {
          "base_uri": "https://localhost:8080/"
        },
        "id": "baNVNP3Q17bH",
        "outputId": "c7941f09-c893-4ac2-a0b3-81212feb8665"
      },
      "execution_count": null,
      "outputs": [
        {
          "output_type": "stream",
          "name": "stdout",
          "text": [
            "+--------------+--------------+\n",
            "|       Country|min(UnitPrice)|\n",
            "+--------------+--------------+\n",
            "|       Germany|          0.42|\n",
            "|        France|          0.42|\n",
            "|          EIRE|          0.65|\n",
            "|        Norway|          0.29|\n",
            "|     Australia|          0.85|\n",
            "|United Kingdom|           0.0|\n",
            "|   Netherlands|          1.85|\n",
            "+--------------+--------------+\n",
            "\n"
          ]
        }
      ]
    },
    {
      "cell_type": "code",
      "source": [
        "#valor max por grupo\n",
        "df3.groupBy(\"Country\").max(\"UnitPrice\").show() "
      ],
      "metadata": {
        "colab": {
          "base_uri": "https://localhost:8080/"
        },
        "id": "rnRrIzTp22iU",
        "outputId": "6b5ac012-7dc8-4d6d-f779-9687d753acf3"
      },
      "execution_count": null,
      "outputs": [
        {
          "output_type": "stream",
          "name": "stdout",
          "text": [
            "+--------------+--------------+\n",
            "|       Country|max(UnitPrice)|\n",
            "+--------------+--------------+\n",
            "|       Germany|          18.0|\n",
            "|        France|          18.0|\n",
            "|          EIRE|          50.0|\n",
            "|        Norway|          7.95|\n",
            "|     Australia|           8.5|\n",
            "|United Kingdom|        607.49|\n",
            "|   Netherlands|          15.0|\n",
            "+--------------+--------------+\n",
            "\n"
          ]
        }
      ]
    },
    {
      "cell_type": "code",
      "source": [
        "#valor medio por grupo\n",
        "df3.groupBy(\"Country\").avg(\"UnitPrice\").show() "
      ],
      "metadata": {
        "colab": {
          "base_uri": "https://localhost:8080/"
        },
        "id": "GQn4f_vY3JCg",
        "outputId": "f73d9df6-d1ac-421d-9e00-9fd7585faa04"
      },
      "execution_count": null,
      "outputs": [
        {
          "output_type": "stream",
          "name": "stdout",
          "text": [
            "+--------------+------------------+\n",
            "|       Country|    avg(UnitPrice)|\n",
            "+--------------+------------------+\n",
            "|       Germany| 3.235172413793104|\n",
            "|        France|            2.7645|\n",
            "|          EIRE|6.3638095238095245|\n",
            "|        Norway|1.4064383561643836|\n",
            "|     Australia| 5.278571428571429|\n",
            "|United Kingdom|4.2143370634113335|\n",
            "|   Netherlands|             8.425|\n",
            "+--------------+------------------+\n",
            "\n"
          ]
        }
      ]
    },
    {
      "cell_type": "code",
      "source": [
        "#valor medio por grupo\n",
        "df3.groupBy(\"Country\").mean(\"UnitPrice\").show() "
      ],
      "metadata": {
        "colab": {
          "base_uri": "https://localhost:8080/"
        },
        "id": "INE96pmH3Oq6",
        "outputId": "e1f89269-8adc-4ea1-b18a-83cc10b8f864"
      },
      "execution_count": null,
      "outputs": [
        {
          "output_type": "stream",
          "name": "stdout",
          "text": [
            "+--------------+------------------+\n",
            "|       Country|    avg(UnitPrice)|\n",
            "+--------------+------------------+\n",
            "|       Germany| 3.235172413793104|\n",
            "|        France|            2.7645|\n",
            "|          EIRE|6.3638095238095245|\n",
            "|        Norway|1.4064383561643836|\n",
            "|     Australia| 5.278571428571429|\n",
            "|United Kingdom|4.2143370634113335|\n",
            "|   Netherlands|             8.425|\n",
            "+--------------+------------------+\n",
            "\n"
          ]
        }
      ]
    },
    {
      "cell_type": "code",
      "source": [
        "df3.groupBy(\"Country\", \"CustomerID\") \\\n",
        "  .sum(\"UnitPrice\") \\\n",
        "  .show(10)"
      ],
      "metadata": {
        "colab": {
          "base_uri": "https://localhost:8080/"
        },
        "id": "PrRO9WlY3b3S",
        "outputId": "da598f9b-739c-4fad-c8b0-a3455f95e88b"
      },
      "execution_count": null,
      "outputs": [
        {
          "output_type": "stream",
          "name": "stdout",
          "text": [
            "+--------------+----------+------------------+\n",
            "|       Country|CustomerID|    sum(UnitPrice)|\n",
            "+--------------+----------+------------------+\n",
            "|United Kingdom|   17420.0| 38.99999999999999|\n",
            "|United Kingdom|   15922.0|              48.5|\n",
            "|United Kingdom|   16250.0|             47.27|\n",
            "|United Kingdom|   13065.0| 73.11000000000001|\n",
            "|United Kingdom|   18074.0|62.150000000000006|\n",
            "|United Kingdom|   16048.0|12.969999999999999|\n",
            "|       Germany|   12472.0|             49.45|\n",
            "|United Kingdom|   18085.0|              34.6|\n",
            "|United Kingdom|   17905.0|109.90000000000003|\n",
            "|United Kingdom|   17841.0|254.63999999999982|\n",
            "+--------------+----------+------------------+\n",
            "only showing top 10 rows\n",
            "\n"
          ]
        }
      ]
    },
    {
      "cell_type": "markdown",
      "source": [
        "#### Trabalhando com datas\n",
        "- Existem diversas funçoes em Pyspark para manipular datas e timestamp.\n",
        "- Evite escrever suas próprias funçoes para isso.\n",
        "- Algumas funcoes mais usadas:\n",
        "    - current_day():\n",
        "    - date_format(dateExpr,format):\n",
        "    - to_date():\n",
        "    - to_date(column, fmt):\n",
        "    - add_months(Column, numMonths):\n",
        "    - date_add(column, days):\n",
        "    - date_sub(column, days):\n",
        "    - datediff(end, start)\n",
        "    - current_timestamp():\n",
        "    - hour(column):"
      ],
      "metadata": {
        "id": "ayGgpxsR39Dv"
      }
    },
    {
      "cell_type": "code",
      "source": [
        " df3.printSchema()"
      ],
      "metadata": {
        "colab": {
          "base_uri": "https://localhost:8080/"
        },
        "id": "_Dbwt3TN3z8Q",
        "outputId": "8ab0f6d2-64bf-485f-ac85-751fcaecec51"
      },
      "execution_count": null,
      "outputs": [
        {
          "output_type": "stream",
          "name": "stdout",
          "text": [
            "root\n",
            " |-- InvoiceNo: string (nullable = true)\n",
            " |-- StockCode: string (nullable = true)\n",
            " |-- Description: string (nullable = true)\n",
            " |-- Quantity: integer (nullable = true)\n",
            " |-- InvoiceDate: timestamp (nullable = true)\n",
            " |-- UnitPrice: double (nullable = true)\n",
            " |-- CustomerID: double (nullable = true)\n",
            " |-- Country: string (nullable = true)\n",
            "\n"
          ]
        }
      ]
    },
    {
      "cell_type": "code",
      "source": [
        "from pyspark.sql.functions import *"
      ],
      "metadata": {
        "id": "Ww6Ka67l94mw"
      },
      "execution_count": null,
      "outputs": []
    },
    {
      "cell_type": "code",
      "source": [
        "df3.select(current_date().alias(\"current_date\")).show(1)"
      ],
      "metadata": {
        "colab": {
          "base_uri": "https://localhost:8080/"
        },
        "id": "7yKyT6lB99TW",
        "outputId": "0e84f242-b863-4db3-9c57-e21c88fe1e21"
      },
      "execution_count": null,
      "outputs": [
        {
          "output_type": "stream",
          "name": "stdout",
          "text": [
            "+------------+\n",
            "|current_date|\n",
            "+------------+\n",
            "|  2023-01-31|\n",
            "+------------+\n",
            "only showing top 1 row\n",
            "\n"
          ]
        }
      ]
    },
    {
      "cell_type": "code",
      "source": [
        "df3.show(10)"
      ],
      "metadata": {
        "colab": {
          "base_uri": "https://localhost:8080/"
        },
        "id": "tUBOQFKH-Ij8",
        "outputId": "821112b0-4519-4de9-d379-0d481410fa8e"
      },
      "execution_count": null,
      "outputs": [
        {
          "output_type": "stream",
          "name": "stdout",
          "text": [
            "+---------+---------+--------------------+--------+-------------------+---------+----------+--------------+\n",
            "|InvoiceNo|StockCode|         Description|Quantity|        InvoiceDate|UnitPrice|CustomerID|       Country|\n",
            "+---------+---------+--------------------+--------+-------------------+---------+----------+--------------+\n",
            "|   536365|   85123A|WHITE HANGING HEA...|       6|2010-12-01 08:26:00|     2.55|   17850.0|United Kingdom|\n",
            "|   536365|    71053| WHITE METAL LANTERN|       6|2010-12-01 08:26:00|     3.39|   17850.0|United Kingdom|\n",
            "|   536365|   84406B|CREAM CUPID HEART...|       8|2010-12-01 08:26:00|     2.75|   17850.0|United Kingdom|\n",
            "|   536365|   84029G|KNITTED UNION FLA...|       6|2010-12-01 08:26:00|     3.39|   17850.0|United Kingdom|\n",
            "|   536365|   84029E|RED WOOLLY HOTTIE...|       6|2010-12-01 08:26:00|     3.39|   17850.0|United Kingdom|\n",
            "|   536365|    22752|SET 7 BABUSHKA NE...|       2|2010-12-01 08:26:00|     7.65|   17850.0|United Kingdom|\n",
            "|   536365|    21730|GLASS STAR FROSTE...|       6|2010-12-01 08:26:00|     4.25|   17850.0|United Kingdom|\n",
            "|   536366|    22633|HAND WARMER UNION...|       6|2010-12-01 08:28:00|     1.85|   17850.0|United Kingdom|\n",
            "|   536366|    22632|HAND WARMER RED P...|       6|2010-12-01 08:28:00|     1.85|   17850.0|United Kingdom|\n",
            "|   536367|    84879|ASSORTED COLOUR B...|      32|2010-12-01 08:34:00|     1.69|   13047.0|United Kingdom|\n",
            "+---------+---------+--------------------+--------+-------------------+---------+----------+--------------+\n",
            "only showing top 10 rows\n",
            "\n"
          ]
        }
      ]
    },
    {
      "cell_type": "code",
      "source": [
        "# formata valores de data\n",
        "df3.select(col(\"InvoiceDate\"), \\\n",
        "          date_format(col(\"InvoiceDate\"), \"dd/MM/yyyy hh:mm:ss\")\\\n",
        "          .alias(\"Formato Brasil\")).show(10)"
      ],
      "metadata": {
        "colab": {
          "base_uri": "https://localhost:8080/"
        },
        "id": "MJATPhKR-Zy1",
        "outputId": "1d24402b-4309-4658-f7d9-67b58079f5d5"
      },
      "execution_count": null,
      "outputs": [
        {
          "output_type": "stream",
          "name": "stdout",
          "text": [
            "+-------------------+-------------------+\n",
            "|        InvoiceDate|     Formato Brasil|\n",
            "+-------------------+-------------------+\n",
            "|2010-12-01 08:26:00|01/12/2010 08:26:00|\n",
            "|2010-12-01 08:26:00|01/12/2010 08:26:00|\n",
            "|2010-12-01 08:26:00|01/12/2010 08:26:00|\n",
            "|2010-12-01 08:26:00|01/12/2010 08:26:00|\n",
            "|2010-12-01 08:26:00|01/12/2010 08:26:00|\n",
            "|2010-12-01 08:26:00|01/12/2010 08:26:00|\n",
            "|2010-12-01 08:26:00|01/12/2010 08:26:00|\n",
            "|2010-12-01 08:28:00|01/12/2010 08:28:00|\n",
            "|2010-12-01 08:28:00|01/12/2010 08:28:00|\n",
            "|2010-12-01 08:34:00|01/12/2010 08:34:00|\n",
            "+-------------------+-------------------+\n",
            "only showing top 10 rows\n",
            "\n"
          ]
        }
      ]
    },
    {
      "cell_type": "code",
      "source": [
        "# imprime a diferença entre duas datas\n",
        "df3.select(col(\"InvoiceDate\"),\n",
        "    datediff(current_date(),col(\"InvoiceDate\")).alias(\"datediff\")  \n",
        "  ).show(10)"
      ],
      "metadata": {
        "colab": {
          "base_uri": "https://localhost:8080/"
        },
        "id": "4OztpYlC-wje",
        "outputId": "9cca62cf-b55a-4cf6-e975-c416a94b01b3"
      },
      "execution_count": null,
      "outputs": [
        {
          "output_type": "stream",
          "name": "stdout",
          "text": [
            "+-------------------+--------+\n",
            "|        InvoiceDate|datediff|\n",
            "+-------------------+--------+\n",
            "|2010-12-01 08:26:00|    4444|\n",
            "|2010-12-01 08:26:00|    4444|\n",
            "|2010-12-01 08:26:00|    4444|\n",
            "|2010-12-01 08:26:00|    4444|\n",
            "|2010-12-01 08:26:00|    4444|\n",
            "|2010-12-01 08:26:00|    4444|\n",
            "|2010-12-01 08:26:00|    4444|\n",
            "|2010-12-01 08:28:00|    4444|\n",
            "|2010-12-01 08:28:00|    4444|\n",
            "|2010-12-01 08:34:00|    4444|\n",
            "+-------------------+--------+\n",
            "only showing top 10 rows\n",
            "\n"
          ]
        }
      ]
    },
    {
      "cell_type": "code",
      "source": [
        "df3.select(col(\"InvoiceDate\"), \n",
        "    months_between(current_date(),col(\"InvoiceDate\")).alias(\"months_between\")  \n",
        "  ).show(10)"
      ],
      "metadata": {
        "colab": {
          "base_uri": "https://localhost:8080/"
        },
        "id": "6ZN_4Zg14W48",
        "outputId": "b1de5dc1-cb9b-4079-fbee-1c97e79634b0"
      },
      "execution_count": null,
      "outputs": [
        {
          "output_type": "stream",
          "name": "stdout",
          "text": [
            "+-------------------+--------------+\n",
            "|        InvoiceDate|months_between|\n",
            "+-------------------+--------------+\n",
            "|2010-12-01 08:26:00|  145.95640681|\n",
            "|2010-12-01 08:26:00|  145.95640681|\n",
            "|2010-12-01 08:26:00|  145.95640681|\n",
            "|2010-12-01 08:26:00|  145.95640681|\n",
            "|2010-12-01 08:26:00|  145.95640681|\n",
            "|2010-12-01 08:26:00|  145.95640681|\n",
            "|2010-12-01 08:26:00|  145.95640681|\n",
            "|2010-12-01 08:28:00|  145.95636201|\n",
            "|2010-12-01 08:28:00|  145.95636201|\n",
            "|2010-12-01 08:34:00|   145.9562276|\n",
            "+-------------------+--------------+\n",
            "only showing top 10 rows\n",
            "\n"
          ]
        }
      ]
    },
    {
      "cell_type": "code",
      "source": [
        "# Extrai ano, mës, próximo dia, dia da semana.\n",
        "df3.select(col(\"InvoiceDate\"), \n",
        "     year(col(\"InvoiceDate\")).alias(\"year\"), \n",
        "     month(col(\"InvoiceDate\")).alias(\"month\"), \n",
        "     next_day(col(\"InvoiceDate\"),\"Sunday\").alias(\"next_day\"), \n",
        "     weekofyear(col(\"InvoiceDate\")).alias(\"weekofyear\") \n",
        "  ).show(10)"
      ],
      "metadata": {
        "colab": {
          "base_uri": "https://localhost:8080/"
        },
        "id": "BdihbkwK4agO",
        "outputId": "9f7bb29b-0ae7-410d-ad46-2f647c71d856"
      },
      "execution_count": null,
      "outputs": [
        {
          "output_type": "stream",
          "name": "stdout",
          "text": [
            "+-------------------+----+-----+----------+----------+\n",
            "|        InvoiceDate|year|month|  next_day|weekofyear|\n",
            "+-------------------+----+-----+----------+----------+\n",
            "|2010-12-01 08:26:00|2010|   12|2010-12-05|        48|\n",
            "|2010-12-01 08:26:00|2010|   12|2010-12-05|        48|\n",
            "|2010-12-01 08:26:00|2010|   12|2010-12-05|        48|\n",
            "|2010-12-01 08:26:00|2010|   12|2010-12-05|        48|\n",
            "|2010-12-01 08:26:00|2010|   12|2010-12-05|        48|\n",
            "|2010-12-01 08:26:00|2010|   12|2010-12-05|        48|\n",
            "|2010-12-01 08:26:00|2010|   12|2010-12-05|        48|\n",
            "|2010-12-01 08:28:00|2010|   12|2010-12-05|        48|\n",
            "|2010-12-01 08:28:00|2010|   12|2010-12-05|        48|\n",
            "|2010-12-01 08:34:00|2010|   12|2010-12-05|        48|\n",
            "+-------------------+----+-----+----------+----------+\n",
            "only showing top 10 rows\n",
            "\n"
          ]
        }
      ]
    },
    {
      "cell_type": "code",
      "source": [
        "# Dia da semana, dia do mës, dias do ano\n",
        "df3.select(col(\"InvoiceDate\"),  \n",
        "     dayofweek(col(\"InvoiceDate\")).alias(\"dayofweek\"), \n",
        "     dayofmonth(col(\"InvoiceDate\")).alias(\"dayofmonth\"), \n",
        "     dayofyear(col(\"InvoiceDate\")).alias(\"dayofyear\"), \n",
        "  ).show(10)"
      ],
      "metadata": {
        "colab": {
          "base_uri": "https://localhost:8080/"
        },
        "id": "xmH05qjR4km2",
        "outputId": "4b6fa02b-5437-4716-ccc8-6be92e4bd603"
      },
      "execution_count": null,
      "outputs": [
        {
          "output_type": "stream",
          "name": "stdout",
          "text": [
            "+-------------------+---------+----------+---------+\n",
            "|        InvoiceDate|dayofweek|dayofmonth|dayofyear|\n",
            "+-------------------+---------+----------+---------+\n",
            "|2010-12-01 08:26:00|        4|         1|      335|\n",
            "|2010-12-01 08:26:00|        4|         1|      335|\n",
            "|2010-12-01 08:26:00|        4|         1|      335|\n",
            "|2010-12-01 08:26:00|        4|         1|      335|\n",
            "|2010-12-01 08:26:00|        4|         1|      335|\n",
            "|2010-12-01 08:26:00|        4|         1|      335|\n",
            "|2010-12-01 08:26:00|        4|         1|      335|\n",
            "|2010-12-01 08:28:00|        4|         1|      335|\n",
            "|2010-12-01 08:28:00|        4|         1|      335|\n",
            "|2010-12-01 08:34:00|        4|         1|      335|\n",
            "+-------------------+---------+----------+---------+\n",
            "only showing top 10 rows\n",
            "\n"
          ]
        }
      ]
    },
    {
      "cell_type": "code",
      "source": [
        "# imprime o timestamp atual\n",
        "df3.select(current_timestamp().alias(\"current_timestamp\")\n",
        "  ).show(1,truncate=False)"
      ],
      "metadata": {
        "colab": {
          "base_uri": "https://localhost:8080/"
        },
        "id": "BcAR-XqK4mV7",
        "outputId": "34f8c080-d2fe-4ee9-ca45-8e5582ddf7bd"
      },
      "execution_count": null,
      "outputs": [
        {
          "output_type": "stream",
          "name": "stdout",
          "text": [
            "+--------------------------+\n",
            "|current_timestamp         |\n",
            "+--------------------------+\n",
            "|2023-01-31 22:11:28.799059|\n",
            "+--------------------------+\n",
            "only showing top 1 row\n",
            "\n"
          ]
        }
      ]
    },
    {
      "cell_type": "code",
      "source": [
        "# retorna hora, minuto e segundo\n",
        "df3.select(col(\"InvoiceDate\"), \n",
        "    hour(col(\"InvoiceDate\")).alias(\"hour\"), \n",
        "    minute(col(\"InvoiceDate\")).alias(\"minute\"),\n",
        "    second(col(\"InvoiceDate\")).alias(\"second\") \n",
        "  ).show(10)"
      ],
      "metadata": {
        "colab": {
          "base_uri": "https://localhost:8080/"
        },
        "id": "Aj9YzHpH4odg",
        "outputId": "f2582fb6-c441-4dd3-bf1a-035f211d616c"
      },
      "execution_count": null,
      "outputs": [
        {
          "output_type": "stream",
          "name": "stdout",
          "text": [
            "+-------------------+----+------+------+\n",
            "|        InvoiceDate|hour|minute|second|\n",
            "+-------------------+----+------+------+\n",
            "|2010-12-01 08:26:00|   8|    26|     0|\n",
            "|2010-12-01 08:26:00|   8|    26|     0|\n",
            "|2010-12-01 08:26:00|   8|    26|     0|\n",
            "|2010-12-01 08:26:00|   8|    26|     0|\n",
            "|2010-12-01 08:26:00|   8|    26|     0|\n",
            "|2010-12-01 08:26:00|   8|    26|     0|\n",
            "|2010-12-01 08:26:00|   8|    26|     0|\n",
            "|2010-12-01 08:28:00|   8|    28|     0|\n",
            "|2010-12-01 08:28:00|   8|    28|     0|\n",
            "|2010-12-01 08:34:00|   8|    34|     0|\n",
            "+-------------------+----+------+------+\n",
            "only showing top 10 rows\n",
            "\n"
          ]
        }
      ]
    },
    {
      "cell_type": "markdown",
      "source": [
        "#bollean"
      ],
      "metadata": {
        "id": "kS-44DIe5mVS"
      }
    },
    {
      "cell_type": "code",
      "source": [
        "## Retorna linhas das colunas 'InvoiceNo' e 'Description' onde 'InvoiceNo' é diferente de 536365\n",
        "from pyspark.sql.functions import col\n",
        "df3.where(col(\"InvoiceNo\") != 536365)\\\n",
        ".select(\"InvoiceNo\", \"Description\")\\\n",
        ".show(10)"
      ],
      "metadata": {
        "colab": {
          "base_uri": "https://localhost:8080/"
        },
        "id": "-l43B2mO5pkc",
        "outputId": "8fd6c017-dd74-4a94-823e-4d874d36345b"
      },
      "execution_count": null,
      "outputs": [
        {
          "output_type": "stream",
          "name": "stdout",
          "text": [
            "+---------+--------------------+\n",
            "|InvoiceNo|         Description|\n",
            "+---------+--------------------+\n",
            "|   536366|HAND WARMER UNION...|\n",
            "|   536366|HAND WARMER RED P...|\n",
            "|   536367|ASSORTED COLOUR B...|\n",
            "|   536367|POPPY'S PLAYHOUSE...|\n",
            "|   536367|POPPY'S PLAYHOUSE...|\n",
            "|   536367|FELTCRAFT PRINCES...|\n",
            "|   536367|IVORY KNITTED MUG...|\n",
            "|   536367|BOX OF 6 ASSORTED...|\n",
            "|   536367|BOX OF VINTAGE JI...|\n",
            "|   536367|BOX OF VINTAGE AL...|\n",
            "+---------+--------------------+\n",
            "only showing top 10 rows\n",
            "\n"
          ]
        }
      ]
    },
    {
      "cell_type": "code",
      "source": [
        "# usando o operador boleando com um predicado em uma expressão.\n",
        "df3.where(\"InvoiceNo <> 536365\").show(5)"
      ],
      "metadata": {
        "colab": {
          "base_uri": "https://localhost:8080/"
        },
        "id": "mIp-R0Ll5sS_",
        "outputId": "eda909ef-4bc5-44c4-a70a-b67750a20876"
      },
      "execution_count": null,
      "outputs": [
        {
          "output_type": "stream",
          "name": "stdout",
          "text": [
            "+---------+---------+--------------------+--------+-------------------+---------+----------+--------------+\n",
            "|InvoiceNo|StockCode|         Description|Quantity|        InvoiceDate|UnitPrice|CustomerID|       Country|\n",
            "+---------+---------+--------------------+--------+-------------------+---------+----------+--------------+\n",
            "|   536366|    22633|HAND WARMER UNION...|       6|2010-12-01 08:28:00|     1.85|   17850.0|United Kingdom|\n",
            "|   536366|    22632|HAND WARMER RED P...|       6|2010-12-01 08:28:00|     1.85|   17850.0|United Kingdom|\n",
            "|   536367|    84879|ASSORTED COLOUR B...|      32|2010-12-01 08:34:00|     1.69|   13047.0|United Kingdom|\n",
            "|   536367|    22745|POPPY'S PLAYHOUSE...|       6|2010-12-01 08:34:00|      2.1|   13047.0|United Kingdom|\n",
            "|   536367|    22748|POPPY'S PLAYHOUSE...|       6|2010-12-01 08:34:00|      2.1|   13047.0|United Kingdom|\n",
            "+---------+---------+--------------------+--------+-------------------+---------+----------+--------------+\n",
            "only showing top 5 rows\n",
            "\n"
          ]
        }
      ]
    },
    {
      "cell_type": "code",
      "source": [
        "# usando o operador boleando com um predicado em uma expressão.\n",
        "df3.where(\"InvoiceNo == 536365\").show(5)"
      ],
      "metadata": {
        "colab": {
          "base_uri": "https://localhost:8080/"
        },
        "id": "xE3udr8n5v0H",
        "outputId": "7f4eb030-40b0-4091-c463-5c262077ec52"
      },
      "execution_count": null,
      "outputs": [
        {
          "output_type": "stream",
          "name": "stdout",
          "text": [
            "+---------+---------+--------------------+--------+-------------------+---------+----------+--------------+\n",
            "|InvoiceNo|StockCode|         Description|Quantity|        InvoiceDate|UnitPrice|CustomerID|       Country|\n",
            "+---------+---------+--------------------+--------+-------------------+---------+----------+--------------+\n",
            "|   536365|   85123A|WHITE HANGING HEA...|       6|2010-12-01 08:26:00|     2.55|   17850.0|United Kingdom|\n",
            "|   536365|    71053| WHITE METAL LANTERN|       6|2010-12-01 08:26:00|     3.39|   17850.0|United Kingdom|\n",
            "|   536365|   84406B|CREAM CUPID HEART...|       8|2010-12-01 08:26:00|     2.75|   17850.0|United Kingdom|\n",
            "|   536365|   84029G|KNITTED UNION FLA...|       6|2010-12-01 08:26:00|     3.39|   17850.0|United Kingdom|\n",
            "|   536365|   84029E|RED WOOLLY HOTTIE...|       6|2010-12-01 08:26:00|     3.39|   17850.0|United Kingdom|\n",
            "+---------+---------+--------------------+--------+-------------------+---------+----------+--------------+\n",
            "only showing top 5 rows\n",
            "\n"
          ]
        }
      ]
    },
    {
      "cell_type": "code",
      "source": [
        "# Entendendo a ordem dos operadores boleanos\n",
        "from pyspark.sql.functions import instr\n",
        "priceFilter = col(\"UnitPrice\") > 600\n",
        "descripFilter = instr(df3.Description, \"POSTAGE\") >= 1"
      ],
      "metadata": {
        "id": "WboDetux50pl"
      },
      "execution_count": null,
      "outputs": []
    },
    {
      "cell_type": "code",
      "source": [
        "df3.where(df.StockCode.isin(\"DOT\")).where(priceFilter | descripFilter).show()"
      ],
      "metadata": {
        "colab": {
          "base_uri": "https://localhost:8080/",
          "height": 171
        },
        "id": "S5v62elY69kx",
        "outputId": "5cae0d37-2f1c-48a3-a933-e9e2f4a1d4e0"
      },
      "execution_count": null,
      "outputs": [
        {
          "output_type": "error",
          "ename": "NameError",
          "evalue": "ignored",
          "traceback": [
            "\u001b[0;31m---------------------------------------------------------------------------\u001b[0m",
            "\u001b[0;31mNameError\u001b[0m                                 Traceback (most recent call last)",
            "\u001b[0;32m<ipython-input-9-fc5f327a2c31>\u001b[0m in \u001b[0;36m<module>\u001b[0;34m\u001b[0m\n\u001b[0;32m----> 1\u001b[0;31m \u001b[0mdf3\u001b[0m\u001b[0;34m.\u001b[0m\u001b[0mwhere\u001b[0m\u001b[0;34m(\u001b[0m\u001b[0mdf\u001b[0m\u001b[0;34m.\u001b[0m\u001b[0mStockCode\u001b[0m\u001b[0;34m.\u001b[0m\u001b[0misin\u001b[0m\u001b[0;34m(\u001b[0m\u001b[0;34m\"DOT\"\u001b[0m\u001b[0;34m)\u001b[0m\u001b[0;34m)\u001b[0m\u001b[0;34m.\u001b[0m\u001b[0mwhere\u001b[0m\u001b[0;34m(\u001b[0m\u001b[0mpriceFilter\u001b[0m \u001b[0;34m|\u001b[0m \u001b[0mdescripFilter\u001b[0m\u001b[0;34m)\u001b[0m\u001b[0;34m.\u001b[0m\u001b[0mshow\u001b[0m\u001b[0;34m(\u001b[0m\u001b[0;34m)\u001b[0m\u001b[0;34m\u001b[0m\u001b[0;34m\u001b[0m\u001b[0m\n\u001b[0m",
            "\u001b[0;31mNameError\u001b[0m: name 'df3' is not defined"
          ]
        }
      ]
    },
    {
      "cell_type": "code",
      "source": [
        "df.show(10)"
      ],
      "metadata": {
        "id": "hzuaqgut7ESL",
        "colab": {
          "base_uri": "https://localhost:8080/"
        },
        "outputId": "d51b317b-6408-45c1-b483-1e1bd00e1605"
      },
      "execution_count": null,
      "outputs": [
        {
          "output_type": "stream",
          "name": "stdout",
          "text": [
            "+----------------+--------------------+--------------------+----+----------------+----+----+----+----+----+----+----+----+\n",
            "|          Artist|               Music|               Album|Year|           Genre|2022|2021|2020|2019|2018|2017|2016|2015|\n",
            "+----------------+--------------------+--------------------+----+----------------+----+----+----+----+----+----+----+----+\n",
            "|The Black Crowes|              Remedy|The Southern Harm...|1992|   Southern Rock| 500|null| 324| 290| 132|  64|  36|null|\n",
            "|            Asia| Only Time Will Tell|                Asia|1982|Progressive Rock| 499|null|null|null|null|null|null|null|\n",
            "| Collective Soul|               Shine|Hints Allegations...|1993|Alternative Rock| 498|null|null| 419| 485| 403|null|null|\n",
            "|      Billy Idol|       Sweet Sixteen|      Whiplash Smile|1986|            Rock| 497|null|null|null|null|null|null|null|\n",
            "| Collective Soul|            December|     Collective Soul|1995|Alternative Rock| 496|null|null|null| 431| 443|null|null|\n",
            "|     Duran Duran|       Save a prayer|                 Rio|1982|        Synthpop| 495| 466|null| 381| 292|null| 488|null|\n",
            "|     Men at Work|          Down Under|   Business as Usual|1981|        New Wave| 494|null| 190| 172| 108| 451| 406| 167|\n",
            "|    Brian Setzer|    Summertime Blues| La Bamba soundtrack|1987|   Rock and Roll| 493|null|null|null|null|null|null|null|\n",
            "|    Simple Minds|Dont You Forget A...|The Breakfast Clu...|1985|        Pop Rock| 492|null|null| 293| 288| 437|null|null|\n",
            "|Blue Oyster Cult|       Joan Crawford|Fire of Unknown O...|1981|       Hard Rock| 491|null| 174| 209|null| 311| 403|null|\n",
            "+----------------+--------------------+--------------------+----+----------------+----+----+----+----+----+----+----+----+\n",
            "only showing top 10 rows\n",
            "\n"
          ]
        }
      ]
    },
    {
      "cell_type": "code",
      "source": [
        "df.year.show(10)"
      ],
      "metadata": {
        "colab": {
          "base_uri": "https://localhost:8080/",
          "height": 299
        },
        "id": "4gNN7646OC4I",
        "outputId": "7589e878-0156-46ea-e525-9c74c40a26d0"
      },
      "execution_count": null,
      "outputs": [
        {
          "output_type": "error",
          "ename": "AttributeError",
          "evalue": "ignored",
          "traceback": [
            "\u001b[0;31m---------------------------------------------------------------------------\u001b[0m",
            "\u001b[0;31mAttributeError\u001b[0m                            Traceback (most recent call last)",
            "\u001b[0;32m<ipython-input-11-32365a19f38c>\u001b[0m in \u001b[0;36m<module>\u001b[0;34m\u001b[0m\n\u001b[0;32m----> 1\u001b[0;31m \u001b[0mdf\u001b[0m\u001b[0;34m.\u001b[0m\u001b[0myear\u001b[0m\u001b[0;34m.\u001b[0m\u001b[0mshow\u001b[0m\u001b[0;34m(\u001b[0m\u001b[0;36m10\u001b[0m\u001b[0;34m)\u001b[0m\u001b[0;34m\u001b[0m\u001b[0;34m\u001b[0m\u001b[0m\n\u001b[0m",
            "\u001b[0;32m/usr/local/lib/python3.8/dist-packages/pyspark/sql/dataframe.py\u001b[0m in \u001b[0;36m__getattr__\u001b[0;34m(self, name)\u001b[0m\n\u001b[1;32m   1986\u001b[0m         \"\"\"\n\u001b[1;32m   1987\u001b[0m         \u001b[0;32mif\u001b[0m \u001b[0mname\u001b[0m \u001b[0;32mnot\u001b[0m \u001b[0;32min\u001b[0m \u001b[0mself\u001b[0m\u001b[0;34m.\u001b[0m\u001b[0mcolumns\u001b[0m\u001b[0;34m:\u001b[0m\u001b[0;34m\u001b[0m\u001b[0;34m\u001b[0m\u001b[0m\n\u001b[0;32m-> 1988\u001b[0;31m             raise AttributeError(\n\u001b[0m\u001b[1;32m   1989\u001b[0m                 \u001b[0;34m\"'%s' object has no attribute '%s'\"\u001b[0m \u001b[0;34m%\u001b[0m \u001b[0;34m(\u001b[0m\u001b[0mself\u001b[0m\u001b[0;34m.\u001b[0m\u001b[0m__class__\u001b[0m\u001b[0;34m.\u001b[0m\u001b[0m__name__\u001b[0m\u001b[0;34m,\u001b[0m \u001b[0mname\u001b[0m\u001b[0;34m)\u001b[0m\u001b[0;34m\u001b[0m\u001b[0;34m\u001b[0m\u001b[0m\n\u001b[1;32m   1990\u001b[0m             )\n",
            "\u001b[0;31mAttributeError\u001b[0m: 'DataFrame' object has no attribute 'year'"
          ]
        }
      ]
    },
    {
      "cell_type": "code",
      "source": [
        "df.filter(df.Year > 400).show(10)"
      ],
      "metadata": {
        "colab": {
          "base_uri": "https://localhost:8080/"
        },
        "id": "tCcI-tLcOFlA",
        "outputId": "a7257cb0-e6fb-4ed6-f829-10b7bb0c2165"
      },
      "execution_count": null,
      "outputs": [
        {
          "output_type": "stream",
          "name": "stdout",
          "text": [
            "+----------------+--------------------+--------------------+----+----------------+----+----+----+----+----+----+----+----+\n",
            "|          Artist|               Music|               Album|Year|           Genre|2022|2021|2020|2019|2018|2017|2016|2015|\n",
            "+----------------+--------------------+--------------------+----+----------------+----+----+----+----+----+----+----+----+\n",
            "|The Black Crowes|              Remedy|The Southern Harm...|1992|   Southern Rock| 500|null| 324| 290| 132|  64|  36|null|\n",
            "|            Asia| Only Time Will Tell|                Asia|1982|Progressive Rock| 499|null|null|null|null|null|null|null|\n",
            "| Collective Soul|               Shine|Hints Allegations...|1993|Alternative Rock| 498|null|null| 419| 485| 403|null|null|\n",
            "|      Billy Idol|       Sweet Sixteen|      Whiplash Smile|1986|            Rock| 497|null|null|null|null|null|null|null|\n",
            "| Collective Soul|            December|     Collective Soul|1995|Alternative Rock| 496|null|null|null| 431| 443|null|null|\n",
            "|     Duran Duran|       Save a prayer|                 Rio|1982|        Synthpop| 495| 466|null| 381| 292|null| 488|null|\n",
            "|     Men at Work|          Down Under|   Business as Usual|1981|        New Wave| 494|null| 190| 172| 108| 451| 406| 167|\n",
            "|    Brian Setzer|    Summertime Blues| La Bamba soundtrack|1987|   Rock and Roll| 493|null|null|null|null|null|null|null|\n",
            "|    Simple Minds|Dont You Forget A...|The Breakfast Clu...|1985|        Pop Rock| 492|null|null| 293| 288| 437|null|null|\n",
            "|Blue Oyster Cult|       Joan Crawford|Fire of Unknown O...|1981|       Hard Rock| 491|null| 174| 209|null| 311| 403|null|\n",
            "+----------------+--------------------+--------------------+----+----------------+----+----+----+----+----+----+----+----+\n",
            "only showing top 10 rows\n",
            "\n"
          ]
        }
      ]
    },
    {
      "cell_type": "code",
      "source": [
        "df.createOrReplaceTempView(\"tableA\")"
      ],
      "metadata": {
        "id": "XRxSNLqSOmKl"
      },
      "execution_count": null,
      "outputs": []
    },
    {
      "cell_type": "code",
      "source": [
        "spark.sql(\"SELECT count(*) from tableA\").show()"
      ],
      "metadata": {
        "colab": {
          "base_uri": "https://localhost:8080/"
        },
        "id": "M2qIgiXJPXPs",
        "outputId": "bf440316-911a-4efd-ed7a-426ad0fce792"
      },
      "execution_count": null,
      "outputs": [
        {
          "output_type": "stream",
          "name": "stdout",
          "text": [
            "+--------+\n",
            "|count(1)|\n",
            "+--------+\n",
            "|     500|\n",
            "+--------+\n",
            "\n"
          ]
        }
      ]
    },
    {
      "cell_type": "code",
      "source": [],
      "metadata": {
        "id": "wQOCRAIWPYEr"
      },
      "execution_count": null,
      "outputs": []
    },
    {
      "cell_type": "markdown",
      "source": [
        "#https://sparkbyexamples.com/"
      ],
      "metadata": {
        "id": "IdX1x1zmVEms"
      }
    },
    {
      "cell_type": "code",
      "source": [],
      "metadata": {
        "id": "XCLdSznxVES4"
      },
      "execution_count": null,
      "outputs": []
    }
  ]
}